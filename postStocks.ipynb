{
 "cells": [
  {
   "cell_type": "code",
   "execution_count": null,
   "metadata": {},
   "outputs": [],
   "source": [
    "import numpy as np\n",
    "import pandas as pd\n",
    "import tweepy \n",
    "import yahoo_fin.stock_info as si \n",
    "import schedule\n",
    "import time\n",
    "from datetime import date\n",
    "\n",
    "\n",
    "today = date.today()\n",
    "today = today.strftime(\"%d/%m/%Y\")"
   ]
  },
  {
   "cell_type": "code",
   "execution_count": null,
   "metadata": {},
   "outputs": [],
   "source": [
    "top_winners = si.get_day_gainers()\n",
    "perc_gain = top_winners[(top_winners['% Change']<=10.0) & (top_winners['% Change']>=5) & (top_winners['Volume']//top_winners['Avg Vol (3 month)']>2)]\n",
    "sorted_perc_gain = perc_gain.sort_values(by= 'PE Ratio (TTM)',ascending=True)\n",
    "sorted_perc_gain = sorted_perc_gain.rename(columns={'Price (Intraday)':'Price'})\n",
    "sorted_perc_gain['Price Out'] = np.nan\n",
    "sorted_perc_gain['DateTime'] = today\n",
    "short_list = sorted_perc_gain[['Symbol','Name','Price','% Change','Price Out','DateTime']]\n",
    "short_list = short_list.reset_index(drop=True)\n",
    "#short_list = short_list.set_index('Symbol')\n",
    "dic_SL = short_list.to_dict(orient='index')\n",
    "short_list.head()"
   ]
  },
  {
   "cell_type": "code",
   "execution_count": null,
   "metadata": {},
   "outputs": [],
   "source": [
    "#gets env variables\n",
    "from dotenv import load_dotenv\n",
    "import os\n",
    "load_dotenv()"
   ]
  },
  {
   "cell_type": "code",
   "execution_count": null,
   "metadata": {},
   "outputs": [],
   "source": [
    "CONSUMER_KEY = os.getenv('CONSUMER_KEY')\n",
    "CONSUMER_SECRET = os.getenv('CONSUMER_SECRET')\n",
    "ACCESS_TOKEN = os.getenv('ACCESS_TOKEN')\n",
    "ACCESS_TOKEN_SECRET = os.getenv('ACCESS_TOKEN_SECRET')\n",
    "BRR_TOKEN = os.getenv('BRR_TOKEN')\n",
    "\n",
    "auth = tweepy.OAuthHandler(CONSUMER_KEY, CONSUMER_SECRET)\n",
    "auth.set_access_token(ACCESS_TOKEN, ACCESS_TOKEN_SECRET)\n",
    "api = tweepy.API(auth)"
   ]
  },
  {
   "cell_type": "code",
   "execution_count": null,
   "metadata": {},
   "outputs": [],
   "source": [
    "Archive = pd.read_csv('Archive.csv',index_col=[0])\n",
    "open_pos = Archive[Archive['Price Out'].isnull()]\n",
    "lop = open_pos['Ticker'].to_list()\n",
    "Archive.head()"
   ]
  },
  {
   "cell_type": "code",
   "execution_count": null,
   "metadata": {},
   "outputs": [],
   "source": [
    "\n",
    "def tweet_and_archive(sl):\n",
    "    ticker_l = []\n",
    "    name_l = []\n",
    "    price_l = []\n",
    "    price_out_l = []\n",
    "    date_time = []\n",
    "\n",
    "    for index, row in sl.iterrows():\n",
    "        print(sl.columns)\n",
    "        Stock = row['Symbol']\n",
    "        Price = row['Price']\n",
    "        Price_out = row['Price Out']\n",
    "        name_ = row['Name']\n",
    "        Date_ = row['DateTime']\n",
    "        if Stock not in lop:\n",
    "            ticker_l.append(Stock)\n",
    "            name_l.append(name_)\n",
    "            price_l.append(Price)\n",
    "            price_out_l.append(Price_out)\n",
    "            date_time.append(Date_)\n",
    "            bot_says = f'Possible swing of {Stock} at ${Price} long, This is not financial advice.'\n",
    "            response = api.update_status(status=bot_says)\n",
    "            print(response)\n",
    "        else:\n",
    "            continue\n",
    "\n",
    "    to_add = pd.DataFrame({'Ticker':ticker_l,'Name':name_l,'Price':price_l,'DateTime':date_time,'Price Out':price_out_l})\n",
    "    to_add['%Change'] = np.nan; \n",
    "    to_add['W/L'] = np.nan\n",
    "    Arch = Archive.append(to_add,ignore_index=True)\n",
    "    Arch.to_csv('Archive.csv')\n",
    "#tweet_and_archive(short_list)"
   ]
  },
  {
   "cell_type": "code",
   "execution_count": null,
   "metadata": {},
   "outputs": [],
   "source": [
    "\n",
    "\n",
    "\n",
    "\n",
    "while True:\n",
    "    tweet_and_archive(short_list)\n",
    "    time.sleep(86400)"
   ]
  }
 ],
 "metadata": {
  "kernelspec": {
   "display_name": "Python 3.9.7 ('base')",
   "language": "python",
   "name": "python3"
  },
  "language_info": {
   "codemirror_mode": {
    "name": "ipython",
    "version": 3
   },
   "file_extension": ".py",
   "mimetype": "text/x-python",
   "name": "python",
   "nbconvert_exporter": "python",
   "pygments_lexer": "ipython3",
   "version": "3.9.7"
  },
  "orig_nbformat": 4,
  "vscode": {
   "interpreter": {
    "hash": "12b8b1572948978f04e8b84726236508eabb38a50813f52a6b26af1cafe94c55"
   }
  }
 },
 "nbformat": 4,
 "nbformat_minor": 2
}
