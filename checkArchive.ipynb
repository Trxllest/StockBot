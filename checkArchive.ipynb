{
 "cells": [
  {
   "cell_type": "code",
   "execution_count": null,
   "metadata": {},
   "outputs": [],
   "source": [
    "import pandas as pd\n",
    "import numpy as np\n",
    "import yahoo_fin.stock_info as si \n",
    "import tweepy\n",
    "import time"
   ]
  },
  {
   "cell_type": "code",
   "execution_count": null,
   "metadata": {},
   "outputs": [],
   "source": [
    "#gets env variables\n",
    "from dotenv import load_dotenv\n",
    "import os\n",
    "load_dotenv()"
   ]
  },
  {
   "cell_type": "code",
   "execution_count": null,
   "metadata": {},
   "outputs": [],
   "source": [
    "CONSUMER_KEY = os.getenv('CONSUMER_KEY')\n",
    "CONSUMER_SECRET = os.getenv('CONSUMER_SECRET')\n",
    "ACCESS_TOKEN = os.getenv('ACCESS_TOKEN')\n",
    "ACCESS_TOKEN_SECRET = os.getenv('ACCESS_TOKEN_SECRET')\n",
    "BRR_TOKEN = os.getenv('BRR_TOKEN')\n",
    "\n",
    "auth = tweepy.OAuthHandler(CONSUMER_KEY, CONSUMER_SECRET)\n",
    "auth.set_access_token(ACCESS_TOKEN, ACCESS_TOKEN_SECRET)\n",
    "api = tweepy.API(auth)\n"
   ]
  },
  {
   "cell_type": "code",
   "execution_count": null,
   "metadata": {},
   "outputs": [],
   "source": [
    "while True:\n",
    "    Archive = pd.read_csv('Archive.csv',index_col=[0])\n",
    "    open_pos = Archive[Archive['Price Out'].isnull()]\n",
    "    list_of_open = list(open_pos.index.values) #list of index locations of open positions\n",
    "    print(list_of_open)\n",
    "    pos_2_close = []\n",
    "    for index in list_of_open:\n",
    "        Symbol = Archive.iloc[index,0]\n",
    "        price_sym = si.get_live_price(Symbol)\n",
    "        curr_price_diff = price_sym - Archive.iloc[index,2]\n",
    "        if curr_price_diff/Archive.iloc[index,2] >= 0.05:\n",
    "            pos_2_close.append(index)\n",
    "        elif curr_price_diff/Archive.iloc[index,2] <= -0.03:\n",
    "            pos_2_close.append(index)\n",
    "        else:\n",
    "            continue\n",
    "    \n",
    "    if pos_2_close != []:\n",
    "        for index in pos_2_close:\n",
    "            Symbol = Archive.iloc[index,0]\n",
    "            price_out = si.get_live_price(Symbol)\n",
    "            bot_says = f'Closing position on {Symbol} at ${price_out} This is not financial advice.'\n",
    "            response = api.update_status(status=bot_says)\n",
    "            print(response)\n",
    "            Archive.at[index,'Price Out'] = price_out #Price out value \n",
    "    else:\n",
    "        pass\n",
    "    Archive['%Change'] = (Archive['Price Out'] - Archive['Price'])/Archive['Price']*100\n",
    "    Archive['W/L'] = np.select([Archive['Price Out']>Archive['Price'],Archive['Price Out']<Archive['Price']],\n",
    "                        choicelist=[1, 0],\n",
    "                        default= np.nan)\n",
    "    print(pos_2_close)\n",
    "    Archive.to_csv('Archive.csv')\n",
    "    time.sleep(30)  \n"
   ]
  }
 ],
 "metadata": {
  "kernelspec": {
   "display_name": "Python 3.9.7 ('base')",
   "language": "python",
   "name": "python3"
  },
  "language_info": {
   "codemirror_mode": {
    "name": "ipython",
    "version": 3
   },
   "file_extension": ".py",
   "mimetype": "text/x-python",
   "name": "python",
   "nbconvert_exporter": "python",
   "pygments_lexer": "ipython3",
   "version": "3.9.7"
  },
  "orig_nbformat": 4,
  "vscode": {
   "interpreter": {
    "hash": "12b8b1572948978f04e8b84726236508eabb38a50813f52a6b26af1cafe94c55"
   }
  }
 },
 "nbformat": 4,
 "nbformat_minor": 2
}
